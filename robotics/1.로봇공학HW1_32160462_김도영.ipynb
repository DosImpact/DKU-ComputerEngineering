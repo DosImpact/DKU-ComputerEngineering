{
 "cells": [
  {
   "cell_type": "code",
   "execution_count": 54,
   "metadata": {},
   "outputs": [],
   "source": [
    "GREEN, RED = \"green\", 'red'\n",
    "N = 4 # world의 크기를 정의합니다.\n",
    "# uniform distribution, 초기 확률분포(prior)\n",
    "p = [[1 / (N*N) for _ in range(N)] for _ in range(N)]\n",
    "# world의 색 상태\n",
    "world = [\n",
    "    [RED, RED, RED, RED],\n",
    "    [RED, RED, RED, RED],\n",
    "    [RED, GREEN, GREEN, GREEN],\n",
    "    [RED, RED, RED, RED],\n",
    "]\n",
    "measurments = [RED, GREEN]\n",
    "# 올바르게 센싱, 틀리게 센싱 할 확률\n",
    "AcPr = 0.6\n",
    "# N칸 이동시 정확하게 N칸이동,N+1칸이동,N-1칸 이동할 확률\n",
    "OneP = 0.8\n",
    "\n",
    "\n",
    "def sense(p, Z):\n",
    "    # 센서가 Z라고 인식했을때 다음 prior를 구한다.\n",
    "    # @params p = prior, Z = RED | GREEN\n",
    "    q = [[0 for _ in range(N)] for _ in range(N)]\n",
    "    for i in range(N):\n",
    "        for j in range(N):\n",
    "            hit = (Z == world[i][j])  # 센싱 결과가 지도정보랑 같은가?\n",
    "            # likelihood*prior\n",
    "            q[i][j] = (p[i][j] * (hit * AcPr + (1-hit) * (1-AcPr)))\n",
    "    # normalization\n",
    "    s = sum([sum(row) for row in q])\n",
    "    for i in range(N):\n",
    "        for j in range(N):\n",
    "            q[i][j] = q[i][j] / s\n",
    "    return q\n",
    "\n",
    "\n",
    "def getMoveDir(di):\n",
    "    # 문자열 -> 방향 정수 변환\n",
    "    if di == \"U\":\n",
    "        return 0\n",
    "    elif di == \"R\":\n",
    "        return 1\n",
    "    elif di == \"D\":\n",
    "        return 2\n",
    "    elif di ==\"L\":\n",
    "        return 3\n",
    "    else:\n",
    "        raise Exception(\"di must be U,R,D,L\")\n",
    "\n",
    "def move(p, di, V):\n",
    "    # 전체확률로 이동 후 prior를 업데이트 한다.\n",
    "    # @params p = prior,  di = \"U\"|\"R\"|\"D\"|\"L\", V = int\n",
    "    dx, dy = [-1, 0, 1, 0], [0, 1, 0, -1]\n",
    "    k = getMoveDir(di)\n",
    "    q = [[0 for _ in range(N)] for _ in range(N)]\n",
    "    for i in range(N):\n",
    "        for j in range(N):\n",
    "\n",
    "            nx, ny = (i - V*dx[k]) % N, (j - V*dy[k]) % N\n",
    "            s = OneP * p[nx][ny]\n",
    "\n",
    "            nx, ny = (i - (V+1)*dx[k]) % N, (j - (V+1)*dy[k]) % N\n",
    "            s = s + ((1-OneP)/2) * p[nx][ny]\n",
    "\n",
    "            nx, ny = (i - (V-1)*dx[k]) % N, (j - (V-1)*dy[k]) % N\n",
    "            s = s + ((1-OneP)/2) * p[nx][ny]\n",
    "\n",
    "            q[i][j] = s\n",
    "    return q\n",
    "\n",
    "\n",
    "def printRonud(p):\n",
    "    for row in p:\n",
    "        for e in row:\n",
    "            print(round(e, 4), end=\"\\t\")\n",
    "        print()\n",
    "    print()\n",
    "\n",
    "\n"
   ]
  },
  {
   "cell_type": "code",
   "execution_count": 55,
   "metadata": {},
   "outputs": [
    {
     "name": "stdout",
     "output_type": "stream",
     "text": [
      "0.0\t0.0\t0.0\t0.0\t\n",
      "0.0\t0.0\t0.0\t0.0\t\n",
      "0.0\t0.3333\t0.3333\t0.3333\t\n",
      "0.0\t0.0\t0.0\t0.0\t\n",
      "\n"
     ]
    }
   ],
   "source": [
    "# [1]\n",
    "# AcPr = 1일 경우 측정한 센서 값 z = green일 경우, 확률분포 값을 Python프로그램을 작성하여 구하시오 \n",
    "\n",
    "p = [[1 / (N*N) for _ in range(N)] for _ in range(N)]\n",
    "AcPr = 1\n",
    "p = sense(p,GREEN)\n",
    "printRonud(p)"
   ]
  },
  {
   "cell_type": "code",
   "execution_count": 56,
   "metadata": {},
   "outputs": [
    {
     "name": "stdout",
     "output_type": "stream",
     "text": [
      "0.04\t0.04\t0.04\t0.04\t\n",
      "0.04\t0.04\t0.04\t0.04\t\n",
      "0.04\t0.16\t0.16\t0.16\t\n",
      "0.04\t0.04\t0.04\t0.04\t\n",
      "\n"
     ]
    }
   ],
   "source": [
    "# [2]\n",
    "# AcPr = 0.8일 경우 측정한 센서 값 z=green일 경우 , 확률분포 값을 Python프로그램을 작성하여 구하시오\n",
    "p = [[1 / (N*N) for _ in range(N)] for _ in range(N)]\n",
    "AcPr = .8\n",
    "p = sense(p,GREEN)\n",
    "printRonud(p)"
   ]
  },
  {
   "cell_type": "code",
   "execution_count": 57,
   "metadata": {},
   "outputs": [
    {
     "name": "stdout",
     "output_type": "stream",
     "text": [
      "0.0049\t0.0049\t0.0049\t0.0049\t\n",
      "0.0049\t0.0049\t0.0049\t0.0049\t\n",
      "0.0049\t0.3122\t0.3122\t0.3122\t\n",
      "0.0049\t0.0049\t0.0049\t0.0049\t\n",
      "\n"
     ]
    }
   ],
   "source": [
    "#[3]\n",
    "#AcPr = 0.8일 경우 측정한 센서 값 z1=green, z2=green, z3=green일 경우 , 확률분포 값을 Python프로그램을 작성하여 구하시오\n",
    "p = [[1 / (N*N) for _ in range(N)] for _ in range(N)]\n",
    "AcPr = 0.8\n",
    "for _ in range(3):\n",
    "    p = sense(p,GREEN)\n",
    "printRonud(p)"
   ]
  },
  {
   "cell_type": "code",
   "execution_count": 58,
   "metadata": {},
   "outputs": [
    {
     "name": "stdout",
     "output_type": "stream",
     "text": [
      "0.04\t0.04\t0.04\t0.04\t\n",
      "0.04\t0.04\t0.04\t0.04\t\n",
      "0.04\t0.16\t0.16\t0.16\t\n",
      "0.04\t0.04\t0.04\t0.04\t\n",
      "\n"
     ]
    }
   ],
   "source": [
    "#[4]\n",
    "#AcPr = 0.8일 경우 측정한 센서 값 z1=green, z2=red, z3=green일 경우 , 확률분포 값을 Python프로그램을 작성하여 구하시오\n",
    "p = [[1 / (N*N) for _ in range(N)] for _ in range(N)]\n",
    "AcPr = 0.8\n",
    "p = sense(p,GREEN)\n",
    "p = sense(p,RED)\n",
    "p = sense(p,GREEN)\n",
    "\n",
    "printRonud(p)"
   ]
  },
  {
   "cell_type": "code",
   "execution_count": null,
   "metadata": {},
   "outputs": [],
   "source": []
  },
  {
   "cell_type": "code",
   "execution_count": 62,
   "metadata": {},
   "outputs": [
    {
     "name": "stdout",
     "output_type": "stream",
     "text": [
      "0.0\t0.0\t0.0\t0.0\t\n",
      "0.0\t0.0\t0.0\t0.0\t\n",
      "0.3333\t0.0\t0.3333\t0.3333\t\n",
      "0.0\t0.0\t0.0\t0.0\t\n",
      "\n"
     ]
    }
   ],
   "source": [
    "#[1]\n",
    "#AcPr = 1,OneP=1  경우 측정한 센서 값 z = green, u=R1일 경우, 확률분포 값을 Python프로그램을 작성하여 구하시오 \n",
    "AcPr = 1\n",
    "OneP = 1\n",
    "p = [[1 / (N*N) for _ in range(N)] for _ in range(N)]\n",
    "p = sense(p,GREEN)\n",
    "p = move(p,\"R\",1)\n",
    "printRonud(p)"
   ]
  },
  {
   "cell_type": "code",
   "execution_count": 63,
   "metadata": {},
   "outputs": [
    {
     "name": "stdout",
     "output_type": "stream",
     "text": [
      "0.04\t0.04\t0.04\t0.04\t\n",
      "0.04\t0.04\t0.04\t0.04\t\n",
      "0.148\t0.064\t0.148\t0.16\t\n",
      "0.04\t0.04\t0.04\t0.04\t\n",
      "\n"
     ]
    }
   ],
   "source": [
    "#[2]\n",
    "#AcPr = 0.8,OneP=0.8  경우 측정한 센서 값 z = green, u=R1일 경우, 확률분포 값을 Python프로그램을 작성하여 구하시오 \n",
    "AcPr = 0.8\n",
    "OneP = 0.8\n",
    "p = [[1 / (N*N) for _ in range(N)] for _ in range(N)]\n",
    "p = sense(p,GREEN)\n",
    "p = move(p,\"R\",1)\n",
    "printRonud(p)"
   ]
  },
  {
   "cell_type": "code",
   "execution_count": 64,
   "metadata": {},
   "outputs": [
    {
     "name": "stdout",
     "output_type": "stream",
     "text": [
      "0.0\t0.0\t0.0\t0.0\t\n",
      "0.0\t0.0\t0.0\t0.0\t\n",
      "0.0\t0.0\t0.0\t0.0\t\n",
      "0.0\t0.0\t0.5\t0.5\t\n",
      "\n"
     ]
    }
   ],
   "source": [
    "#[3]\n",
    "#AcPr = 1,OneP=1  경우 측정한 센서 값 z1 = green, u1=R1, z2 = green, u2=D1, z3 = red 일 경우, 확률분포 값을 Python프로그램을 작성하여 구하시오 \n",
    "AcPr = 1\n",
    "OneP = 1\n",
    "p = [[1 / (N*N) for _ in range(N)] for _ in range(N)]\n",
    "p = sense(p,GREEN)\n",
    "p = move(p,\"R\",1)\n",
    "p = sense(p,GREEN)\n",
    "p = move(p,\"D\",1)\n",
    "p = sense(p,RED)\n",
    "printRonud(p)"
   ]
  },
  {
   "cell_type": "code",
   "execution_count": 65,
   "metadata": {},
   "outputs": [
    {
     "name": "stdout",
     "output_type": "stream",
     "text": [
      "0.0264\t0.032\t0.0495\t0.052\t\n",
      "0.0208\t0.0208\t0.0208\t0.0208\t\n",
      "0.0264\t0.008\t0.0124\t0.013\t\n",
      "0.0657\t0.1106\t0.2504\t0.2704\t\n",
      "\n"
     ]
    }
   ],
   "source": [
    "#[4]\n",
    "#AcPr = 0.8,OneP=0.8  경우 측정한 센서 값 z1 = green, u1=R1, z2 = green, u2=D1, z3 = red 일 경우, 확률분포 값을 Python프로그램을 작성하여 구하시오 \n",
    "AcPr = 0.8\n",
    "OneP = 0.8\n",
    "p = [[1 / (N*N) for _ in range(N)] for _ in range(N)]\n",
    "p = sense(p,GREEN)\n",
    "p = move(p,\"R\",1)\n",
    "p = sense(p,GREEN)\n",
    "p = move(p,\"D\",1)\n",
    "p = sense(p,RED)\n",
    "printRonud(p)"
   ]
  },
  {
   "cell_type": "code",
   "execution_count": 66,
   "metadata": {
    "scrolled": true
   },
   "outputs": [
    {
     "name": "stdout",
     "output_type": "stream",
     "text": [
      "0.0346\t0.0359\t0.0361\t0.0333\t\n",
      "0.0368\t0.0467\t0.049\t0.0261\t\n",
      "0.1657\t0.0808\t0.084\t0.0314\t\n",
      "0.0671\t0.1061\t0.1092\t0.0574\t\n",
      "\n"
     ]
    }
   ],
   "source": [
    "#[1]\n",
    "#AcPr = 0.8,OneP=0.8  경우 측정한 센서 값 z1 = green, u1=R1, z2 = green, u2=D1, z3 = red, u3=L1, z3=red, u4=U1, z4 = red  일 경우, 확률분포 값을 Python프로그램을 작성하여 구하시오 \n",
    "AcPr = 0.8\n",
    "OneP = 0.8\n",
    "p = [[1 / (N*N) for _ in range(N)] for _ in range(N)]\n",
    "p = sense(p,GREEN)\n",
    "p = move(p,\"R\",1)\n",
    "\n",
    "p = sense(p,GREEN)\n",
    "p = move(p,\"D\",1)\n",
    "\n",
    "p = sense(p,RED)\n",
    "p = move(p,\"L\",1)\n",
    "p = sense(p,RED)\n",
    "\n",
    "p = move(p,\"U\",1)\n",
    "p = sense(p,RED)\n",
    "\n",
    "printRonud(p)"
   ]
  },
  {
   "cell_type": "code",
   "execution_count": 132,
   "metadata": {
    "scrolled": true
   },
   "outputs": [
    {
     "name": "stdout",
     "output_type": "stream",
     "text": [
      "0.0\t0.0\t0.0811\t0.6492\t\n",
      "0.0\t0.0\t0.01\t0.0799\t\n",
      "0.0\t0.0\t0.0\t0.0\t\n",
      "0.0\t0.0\t0.02\t0.1598\t\n",
      "\n"
     ]
    }
   ],
   "source": [
    "#[1]\n",
    "#AcPr = 0.8,OneP=0.8  확률분포값 중에서 아래 그림의 파란 Red에 해당하는 확률 값이 적어도 0.7이상  나오도록 측정값 z와  u값의 조합을 하나 만들어 보시오\n",
    "AcPr = 0.8\n",
    "OneP = 0.8\n",
    "p = [[1 / (N*N) for _ in range(N)] for _ in range(N)]\n",
    "\n",
    "def move_sense(p,Z,di):\n",
    "    for _ in range(1):\n",
    "        p = move(p,di,1)\n",
    "        for _ in range(10):\n",
    "            p = sense(p,Z)\n",
    "    return p\n",
    "\n",
    "for _ in range(10):\n",
    "    p = sense(p,GREEN)\n",
    "\n",
    "p = move_sense(p,GREEN,\"R\")\n",
    "p = move_sense(p,RED,\"R\")\n",
    "p = move_sense(p,GREEN,\"L\")\n",
    "p = move_sense(p,RED,\"U\")\n",
    "p = move_sense(p,RED,\"U\")\n",
    "printRonud(p)\n"
   ]
  }
 ],
 "metadata": {
  "interpreter": {
   "hash": "514ead07dd94f7480a5148c4d089642047853e5a0a60fa2808813c9ad49cd227"
  },
  "kernelspec": {
   "display_name": "Python 3.7.3 64-bit ('base': conda)",
   "name": "python3"
  },
  "language_info": {
   "codemirror_mode": {
    "name": "ipython",
    "version": 3
   },
   "file_extension": ".py",
   "mimetype": "text/x-python",
   "name": "python",
   "nbconvert_exporter": "python",
   "pygments_lexer": "ipython3",
   "version": "3.7.3"
  }
 },
 "nbformat": 4,
 "nbformat_minor": 4
}
